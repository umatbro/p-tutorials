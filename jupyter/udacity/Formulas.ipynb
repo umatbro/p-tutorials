{
 "cells": [
  {
   "cell_type": "code",
   "execution_count": 7,
   "metadata": {},
   "outputs": [
    {
     "data": {
      "text/latex": [
       "Degrees of freedom\n",
       "$$df = n - 1 \\\\$$\n",
       "\n",
       "Standard error of the mean\n",
       "$$SEM = \\frac{s}{\\sqrt{n}}\\\\$$\n",
       "\n",
       "One sample t-test\n",
       "$$t = \\frac{\\bar{x} - \\mu}{SEM}\\\\$$\n",
       "\n",
       "Confidence Interval\n",
       "$$CI = \\bar{x} \\pm t_{critical} * SEM\\\\$$\n",
       "$$t_{critical} * SEM = margin of error\\\\$$\n",
       "\n",
       "Cohen's d (s - std for the sample)\n",
       "$$d = \\frac{\\bar{x} - \\mu}{s}\\\\$$\n",
       "\n",
       "r^2\n",
       "$$r^2 = \\frac{t^2}{t^2 + df}\\\\$$"
      ],
      "text/plain": [
       "<IPython.core.display.Latex object>"
      ]
     },
     "metadata": {},
     "output_type": "display_data"
    }
   ],
   "source": [
    "%%latex\n",
    "Degrees of freedom\n",
    "$$df = n - 1 \\\\$$\n",
    "\n",
    "Standard error of the mean\n",
    "$$SEM = \\frac{s}{\\sqrt{n}}\\\\$$\n",
    "\n",
    "One sample t-test\n",
    "$$t = \\frac{\\bar{x} - \\mu}{SEM}\\\\$$\n",
    "\n",
    "Confidence Interval\n",
    "$$CI = \\bar{x} \\pm t_{critical} * SEM\\\\$$\n",
    "$$t_{critical} * SEM = margin of error\\\\$$\n",
    "\n",
    "Cohen's d (s - std for the sample)\n",
    "$$d = \\frac{\\bar{x} - \\mu}{s}\\\\$$\n",
    "\n",
    "r^2\n",
    "$$r^2 = \\frac{t^2}{t^2 + df}\\\\$$"
   ]
  }
 ],
 "metadata": {
  "kernelspec": {
   "display_name": "Python 3",
   "language": "python",
   "name": "python3"
  },
  "language_info": {
   "codemirror_mode": {
    "name": "ipython",
    "version": 3
   },
   "file_extension": ".py",
   "mimetype": "text/x-python",
   "name": "python",
   "nbconvert_exporter": "python",
   "pygments_lexer": "ipython3",
   "version": "3.6.3"
  }
 },
 "nbformat": 4,
 "nbformat_minor": 2
}
