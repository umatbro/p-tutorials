{
 "cells": [
  {
   "cell_type": "markdown",
   "metadata": {},
   "source": [
    "# ADHD\n",
    "\n",
    "Reasearchers examined 2 groups of children with ADHD. One group was awarder with extra time at recess, another exchanged points for gifts in school gift shop.\n",
    "\n",
    "**Independent variable**: type of incentive \n",
    "\n",
    "**Dependent variable**: the number of good behaviors in a single 20 minute class period\n",
    "\n",
    "**Null hypothesis**: there will be no difference in the number of good behaviors between two incentive conditions."
   ]
  },
  {
   "cell_type": "code",
   "execution_count": 3,
   "metadata": {},
   "outputs": [],
   "source": [
    "import numpy as np\n",
    "import pandas as pd\n",
    "\n",
    "n1 = 10  # recess group\n",
    "n2 = 10  # prize group\n",
    "# degrees of freedom\n",
    "df = n1 + n2 - 2\n",
    "t_crit = 2.101\n",
    "mean1 = 10\n",
    "mean2 = 7\n",
    "se = 0.94 # standard error"
   ]
  },
  {
   "cell_type": "code",
   "execution_count": 4,
   "metadata": {},
   "outputs": [
    {
     "data": {
      "text/plain": [
       "3.191489361702128"
      ]
     },
     "execution_count": 4,
     "metadata": {},
     "output_type": "execute_result"
    }
   ],
   "source": [
    "t = (mean1 - mean2) / se\n",
    "t"
   ]
  },
  {
   "cell_type": "code",
   "execution_count": 5,
   "metadata": {},
   "outputs": [
    {
     "data": {
      "text/plain": [
       "1.2875536480686696"
      ]
     },
     "execution_count": 5,
     "metadata": {},
     "output_type": "execute_result"
    }
   ],
   "source": [
    "# we reject null\n",
    "pooled_sd = 2.33\n",
    "cohen_d = (mean1 - mean2) / pooled_sd\n",
    "cohen_d"
   ]
  },
  {
   "cell_type": "code",
   "execution_count": 7,
   "metadata": {},
   "outputs": [
    {
     "data": {
      "text/plain": [
       "0.3613761202659729"
      ]
     },
     "execution_count": 7,
     "metadata": {},
     "output_type": "execute_result"
    }
   ],
   "source": [
    "r2 = t**2/(t**2 + df)\n",
    "r2"
   ]
  },
  {
   "cell_type": "markdown",
   "metadata": {},
   "source": [
    "**36%** of the variability in good behavior is due to the different incentive conditions."
   ]
  }
 ],
 "metadata": {
  "kernelspec": {
   "display_name": "Python 3",
   "language": "python",
   "name": "python3"
  },
  "language_info": {
   "codemirror_mode": {
    "name": "ipython",
    "version": 3
   },
   "file_extension": ".py",
   "mimetype": "text/x-python",
   "name": "python",
   "nbconvert_exporter": "python",
   "pygments_lexer": "ipython3",
   "version": "3.5.2"
  }
 },
 "nbformat": 4,
 "nbformat_minor": 2
}
