{
 "cells": [
  {
   "cell_type": "markdown",
   "metadata": {},
   "source": [
    "## Types of effect size measures\n",
    "\n",
    "* difference measures \n",
    "  * mean difference\n",
    "  * standarized difference (Cohen's d)\n",
    "* correlation measures\n",
    "  * **r<sup>2</sup>** - proportion (%) of variation in one variable that is related to (\"explained by\") another variable \n",
    "  \n",
    "## Statistical significance\n",
    "\n",
    "* reject the null\n",
    "* results not likely due to chance (sampling error) \n",
    "\n",
    "### Meaningfulness of result\n",
    "\n",
    "1. What was measured? \n",
    "  * variables\n",
    "2. Effect size\n",
    "3. Can we rule out random chance for the result (can we rule out sampling error as an explanation)?\n",
    "4. Can we rule out alternative explanations? (lurking variables)\n",
    "\n",
    "## Cohen's d\n",
    "\n",
    "**Standarized mean difference**"
   ]
  },
  {
   "cell_type": "code",
   "execution_count": 1,
   "metadata": {},
   "outputs": [
    {
     "data": {
      "text/latex": [
       "\n",
       "$$d = \\frac{\\bar{x} - \\mu}{s}$$"
      ],
      "text/plain": [
       "<IPython.core.display.Latex object>"
      ]
     },
     "metadata": {},
     "output_type": "display_data"
    }
   ],
   "source": [
    "%%latex\n",
    "\n",
    "$$d = \\frac{\\bar{x} - \\mu}{s}$$"
   ]
  },
  {
   "cell_type": "markdown",
   "metadata": {},
   "source": [
    "s - standard deviation of the sample\n",
    "\n",
    "**Interpretation of Cohen's d**: \n",
    "```\n",
    "How far apart are means in standard deviation units\n",
    "```\n",
    "\n",
    "## r<sup>2</sup>\n",
    "\n",
    "r<sup>2</sup> - Coefficient of determination. It takes values from **0.00** to **1.00**.\n",
    "\n",
    "* r<sup>2</sup> = 0 : variables **not** related\n",
    "* r<sup>2</sup> = 1 : variables **perfectly** related"
   ]
  },
  {
   "cell_type": "code",
   "execution_count": 2,
   "metadata": {},
   "outputs": [
    {
     "data": {
      "text/latex": [
       "$$\n",
       "r^2 = \\frac{t^2}{t^2 + df}\n",
       "$$"
      ],
      "text/plain": [
       "<IPython.core.display.Latex object>"
      ]
     },
     "metadata": {},
     "output_type": "display_data"
    }
   ],
   "source": [
    "%%latex\n",
    "$$\n",
    "r^2 = \\frac{t^2}{t^2 + df}\n",
    "$$"
   ]
  },
  {
   "cell_type": "markdown",
   "metadata": {},
   "source": [
    "* ``t`` - value from t-test (**not** t-critical value)\n",
    "* ``df`` - degrees of freedom"
   ]
  },
  {
   "cell_type": "code",
   "execution_count": 3,
   "metadata": {},
   "outputs": [
    {
     "data": {
      "text/plain": [
       "0.16666666666666666"
      ]
     },
     "execution_count": 3,
     "metadata": {},
     "output_type": "execute_result"
    }
   ],
   "source": [
    "# examples of r^2 calculations\n",
    "def r_sq(t, df):\n",
    "    return (t ** 2) / (t ** 2 + df)\n",
    "\n",
    "t = 2\n",
    "df = 20\n",
    "\n",
    "r_sq(t, df)"
   ]
  },
  {
   "cell_type": "markdown",
   "metadata": {},
   "source": [
    "## Results sections\n",
    "\n",
    "1. Descriptive statistics (M, SD)\n",
    "  * text \n",
    "  * graphs\n",
    "  * tables\n",
    "2. Inferential statistics\n",
    "  * hypothesis test \n",
    "    * kind of test - one sample t-test\n",
    "    * test statistic (value of t)\n",
    "    * degrees of freedom ``df``\n",
    "    * p-value\n",
    "    * direction of the test (1-tailed/2-tailed)\n",
    "    * **always** provide *alpha* level\n",
    "  * APA style - (eng. *American Psychological Association*) - it has whole guide on writing statistical reports.\n",
    "  \n",
    "  ``t(df) = x.xx, p=.xx,direction``\n",
    "  \n",
    "  Example: ``t(24)=-2.50,p<.05,one-tailed`` - t value, 24 degrees of freedom equals -2.50, p value < .05 with one tailed test\n",
    "  \n",
    "  * Confidence intervals\n",
    "      * confidence level 95% - we have to know upper and lower limit.\n",
    "      * CI on what? single mean? CI on difference interval between 2 means.\n",
    "        \n",
    "   * Confidence interval - APA style\n",
    "     * confidence interval on the mean difference; ``95%CI=(4, 6)``\n",
    "     \n",
    "3. Effect size measures\n",
    "  * d, r<sup>2</sup>"
   ]
  },
  {
   "cell_type": "code",
   "execution_count": 11,
   "metadata": {
    "scrolled": true
   },
   "outputs": [
    {
     "data": {
      "text/latex": [
       "Degrees of freedom\n",
       "$$df = n - 1$$\n",
       "\n",
       "Standard error of the mean\n",
       "$$SEM = \\frac{s}{\\sqrt{n}}$$\n",
       "\n",
       "One sample t-test\n",
       "$$t = \\frac{\\bar{x} - \\mu}{SEM}$$\n",
       "\n",
       "Confidence Interval\n",
       "$$CI = \\bar{x} \\pm t_{critical} * SEM$$\n",
       "$$t_{critical} * SEM = margin of error$$\n",
       "\n",
       "Cohen's d (s - std for the sample)\n",
       "$$d = \\frac{\\bar{x} - \\mu}{s}$$\n",
       "\n",
       "r^2\n",
       "$$r^2 = \\frac{t^2}{t^2 + df}$$"
      ],
      "text/plain": [
       "<IPython.core.display.Latex object>"
      ]
     },
     "metadata": {},
     "output_type": "display_data"
    }
   ],
   "source": [
    "%%latex\n",
    "Degrees of freedom\n",
    "$$df = n - 1$$\n",
    "\n",
    "Standard error of the mean\n",
    "$$SEM = \\frac{s}{\\sqrt{n}}$$\n",
    "\n",
    "One sample t-test\n",
    "$$t = \\frac{\\bar{x} - \\mu}{SEM}$$\n",
    "\n",
    "Confidence Interval\n",
    "$$CI = \\bar{x} \\pm t_{critical} * SEM$$\n",
    "$$t_{critical} * SEM = margin of error$$\n",
    "\n",
    "Cohen's d (s - std for the sample)\n",
    "$$d = \\frac{\\bar{x} - \\mu}{s}$$\n",
    "\n",
    "r^2\n",
    "$$r^2 = \\frac{t^2}{t^2 + df}$$"
   ]
  },
  {
   "cell_type": "markdown",
   "metadata": {},
   "source": [
    "# Full one-sample t-test\n",
    "\n",
    "US Families spent an average of **$151** per week on food in 2012 (Gallup). We assume that this sample represents whole population."
   ]
  },
  {
   "cell_type": "code",
   "execution_count": 5,
   "metadata": {},
   "outputs": [],
   "source": [
    "import pandas as pd\n",
    "import numpy as np\n",
    "\n",
    "mu = 151"
   ]
  },
  {
   "cell_type": "markdown",
   "metadata": {},
   "source": [
    "There is a food cooperative. We call it **Food Now!**. \n",
    "\n",
    "They want to reduce cost of food for their members. They implement some cost saving program (eg. buying from local grower).\n",
    "\n",
    "* ** $ spent on food per week is dependant variable**\n",
    "* **Cost saving program is the treatment**\n",
    "\n",
    "### Null hypothesis\n",
    "\n",
    "*The prograrm does not change the cost of food*\n",
    "\n",
    "### Alternative hypothesis\n",
    "\n",
    "*The program reduced the cost of the food*"
   ]
  },
  {
   "cell_type": "code",
   "execution_count": 6,
   "metadata": {
    "scrolled": true
   },
   "outputs": [
    {
     "data": {
      "text/latex": [
       "\n",
       "$$H_0: \\mu_{program} \\geq 151$$\n",
       "$$H_A: \\mu_{program} < 151$$"
      ],
      "text/plain": [
       "<IPython.core.display.Latex object>"
      ]
     },
     "metadata": {},
     "output_type": "display_data"
    }
   ],
   "source": [
    "%%latex\n",
    "\n",
    "$$H_0: \\mu_{program} \\geq 151$$\n",
    "$$H_A: \\mu_{program} < 151$$"
   ]
  },
  {
   "cell_type": "markdown",
   "metadata": {},
   "source": [
    "This is gonna be **one-tailed test** in a (**-**) negative direction"
   ]
  },
  {
   "cell_type": "code",
   "execution_count": 7,
   "metadata": {},
   "outputs": [],
   "source": [
    "n = 25\n",
    "df = n - 1  # degrees of freedom\n",
    "\n",
    "t_critical = -1.711  # from t-table\n",
    "s = 50  # sample standard deviation"
   ]
  },
  {
   "cell_type": "code",
   "execution_count": 8,
   "metadata": {},
   "outputs": [
    {
     "data": {
      "text/plain": [
       "10.0"
      ]
     },
     "execution_count": 8,
     "metadata": {},
     "output_type": "execute_result"
    }
   ],
   "source": [
    "# standard error of the mean\n",
    "sem = s / np.sqrt(n)\n",
    "sem"
   ]
  },
  {
   "cell_type": "code",
   "execution_count": 10,
   "metadata": {},
   "outputs": [
    {
     "data": {
      "text/plain": [
       "-25"
      ]
     },
     "execution_count": 10,
     "metadata": {},
     "output_type": "execute_result"
    }
   ],
   "source": [
    "x_prog = 126\n",
    "\n",
    "mean_diff = x_prog - mu\n",
    "mean_diff"
   ]
  },
  {
   "cell_type": "code",
   "execution_count": 12,
   "metadata": {},
   "outputs": [
    {
     "data": {
      "text/plain": [
       "-2.5"
      ]
     },
     "execution_count": 12,
     "metadata": {},
     "output_type": "execute_result"
    }
   ],
   "source": [
    "t = mean_diff / sem\n",
    "t"
   ]
  },
  {
   "cell_type": "code",
   "execution_count": 13,
   "metadata": {},
   "outputs": [
    {
     "data": {
      "text/plain": [
       "-0.5"
      ]
     },
     "execution_count": 13,
     "metadata": {},
     "output_type": "execute_result"
    }
   ],
   "source": [
    "# Cohen's d\n",
    "cd = mean_diff / s\n",
    "cd"
   ]
  },
  {
   "cell_type": "code",
   "execution_count": 15,
   "metadata": {},
   "outputs": [
    {
     "data": {
      "text/plain": [
       "0.20661157024793389"
      ]
     },
     "execution_count": 15,
     "metadata": {},
     "output_type": "execute_result"
    }
   ],
   "source": [
    "r2 = r_sq(t, df)\n",
    "r2"
   ]
  },
  {
   "cell_type": "code",
   "execution_count": 17,
   "metadata": {},
   "outputs": [
    {
     "data": {
      "text/plain": [
       "20.640000000000001"
      ]
     },
     "execution_count": 17,
     "metadata": {},
     "output_type": "execute_result"
    }
   ],
   "source": [
    "# margin of error for 95% CI\n",
    "# 2-tailed test\n",
    "# df = 24\n",
    "# alfa = .05\n",
    "t_cr2 = 2.064  # from t-table\n",
    "\n",
    "margin_of_error = t_cr2 * sem\n",
    "margin_of_error"
   ]
  },
  {
   "cell_type": "code",
   "execution_count": 18,
   "metadata": {},
   "outputs": [
    {
     "data": {
      "text/plain": [
       "(105.36, 146.63999999999999)"
      ]
     },
     "execution_count": 18,
     "metadata": {},
     "output_type": "execute_result"
    }
   ],
   "source": [
    "CI_95_percent = (x_prog - margin_of_error, x_prog + margin_of_error)\n",
    "\n",
    "CI_95_percent"
   ]
  },
  {
   "cell_type": "markdown",
   "metadata": {},
   "source": [
    "This means that coop after applying program would cause for food cost to be between ``$105.36`` and ``$146.64``."
   ]
  }
 ],
 "metadata": {
  "kernelspec": {
   "display_name": "Python 3",
   "language": "python",
   "name": "python3"
  },
  "language_info": {
   "codemirror_mode": {
    "name": "ipython",
    "version": 3
   },
   "file_extension": ".py",
   "mimetype": "text/x-python",
   "name": "python",
   "nbconvert_exporter": "python",
   "pygments_lexer": "ipython3",
   "version": "3.6.3"
  }
 },
 "nbformat": 4,
 "nbformat_minor": 2
}
