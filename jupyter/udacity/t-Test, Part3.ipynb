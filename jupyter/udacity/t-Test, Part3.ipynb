{
 "cells": [
  {
   "cell_type": "markdown",
   "metadata": {},
   "source": [
    "# t-Test, Part3\n",
    "\n",
    "## Dependent samples\n",
    "* two conditions - same person, two different conditions (eg. 2 types of treatment);\n",
    "* longitudinal - measure variable in one point of time and then measure later and see if the variable changes;\n",
    "* pre-test; post-test - what was the measure of variable before and afater the treatment?\n",
    "\n",
    "Advantages:\n",
    "* controls for individual differences\n",
    "  * use fewer subjects\n",
    "  * cost-effective\n",
    "  * less time consuming\n",
    "  * less expensive\n",
    "\n",
    "Disadvantages\n",
    "* carry-over effect (eg. we have some method of teaching math that you apply on your students; after the treatment students will have different skills and you won't be able to conduct test on the  same sample again) - second measurement can be affected by first treatment\n",
    "* order may influence result (eg. test 2 types of pills. What if first pill has some interaction with  2nd pill?)\n",
    "\n",
    "##  Independent samples\n",
    "\n",
    "Advantages of dependent samples are independent samples' **disadventages**.\n",
    "\n",
    "Disadvantages of dependent samples are independent samples' **advantages**.\n",
    "\n",
    "* Experimental tests where we give treatment to the subject\n",
    "* Observational\n"
   ]
  },
  {
   "cell_type": "code",
   "execution_count": 7,
   "metadata": {},
   "outputs": [
    {
     "data": {
      "text/latex": [
       "Standard deviation\n",
       "$$SD = \\sqrt{s_1^2 + s_2^2}\\\\$$\n",
       "\n",
       "Standard error\n",
       "$$SE = \\sqrt{\\frac{s_1^2}{n_1} + \\frac{s_2^2}{n_2}}\\\\$$\n",
       "\n",
       "Degrees of freedom\n",
       "$$df = (n_1 - 1) + (n_2 - 1) = n_1 + n_2 - 2\\\\$$"
      ],
      "text/plain": [
       "<IPython.core.display.Latex object>"
      ]
     },
     "metadata": {},
     "output_type": "display_data"
    }
   ],
   "source": [
    "%%latex\n",
    "Standard deviation\n",
    "$$SD = \\sqrt{s_1^2 + s_2^2}\\\\$$\n",
    "\n",
    "Standard error\n",
    "$$SE = \\sqrt{\\frac{s_1^2}{n_1} + \\frac{s_2^2}{n_2}}\\\\$$\n",
    "\n",
    "Degrees of freedom\n",
    "$$df = (n_1 - 1) + (n_2 - 1) = n_1 + n_2 - 2\\\\$$"
   ]
  }
 ],
 "metadata": {
  "kernelspec": {
   "display_name": "Python 3",
   "language": "python",
   "name": "python3"
  },
  "language_info": {
   "codemirror_mode": {
    "name": "ipython",
    "version": 3
   },
   "file_extension": ".py",
   "mimetype": "text/x-python",
   "name": "python",
   "nbconvert_exporter": "python",
   "pygments_lexer": "ipython3",
   "version": "3.6.4"
  }
 },
 "nbformat": 4,
 "nbformat_minor": 2
}
