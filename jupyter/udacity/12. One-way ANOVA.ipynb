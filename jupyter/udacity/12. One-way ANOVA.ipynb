{
 "cells": [
  {
   "cell_type": "code",
   "execution_count": 4,
   "metadata": {},
   "outputs": [
    {
     "data": {
      "text/latex": [
       "Wariacja bez powtórzeń\n",
       "$$V_n^k = \\frac{n!}{(n - k)!}\\\\$$\n",
       "Kombinacja bez powtórzeń\n",
       "$$C_n^k = {{n}\\choose{k}} =\\frac{n!}{k!(n - k)!}\\\\$$"
      ],
      "text/plain": [
       "<IPython.core.display.Latex object>"
      ]
     },
     "metadata": {},
     "output_type": "display_data"
    }
   ],
   "source": [
    "%%latex\n",
    "Wariacja bez powtórzeń\n",
    "$$V_n^k = \\frac{n!}{(n - k)!}\\\\$$\n",
    "Kombinacja bez powtórzeń\n",
    "$$C_n^k = {{n}\\choose{k}} =\\frac{n!}{k!(n - k)!}\\\\$$"
   ]
  },
  {
   "cell_type": "markdown",
   "metadata": {},
   "source": [
    "### Przykłady\n",
    "\n",
    "Liczba kombinacji 2-elementowych zbioru 4-elementowego A = { a , b , c , d } to 6.\n",
    "\n",
    "Kombinacjami są podzbiory: { a , b } , { a , c } , { a , d } , { b , c } , { b , d } , { c , d }\n",
    "\n",
    "Liczba wariacji zbioru 3-elementowego B = {e, f, g} to 6: ef, eg, fe, fg, ge, gf."
   ]
  },
  {
   "cell_type": "markdown",
   "metadata": {},
   "source": [
    "## Between-group variability\n",
    "\n",
    "the smaller the distance between sample means, the less likely population means will differ significantly.\n",
    "\n",
    "The greater distance between sample means, the more likely population means will differ significantly.\n",
    "\n",
    "\n",
    "# ANOVA \n",
    "\n",
    "When we are comparing samples we are extending idea of the t-test (t = difference / error). We can compare samples by seeing how far is the sample mean from the grand mean (mean of means when samples are the same size). This is called *between group variability*.\n",
    "\n",
    "We also look at the variability of each sample because it impacts wheather or not samples are significantly different.\n",
    "\n",
    "Since we are analyzing variabilities this process is called *Analysis of Variance*, shortened to **ANOVA**.\n",
    "\n",
    "**ANOVA** can compare as many means as we want with just one test. We say one-way ANOVA when we have one independent variable (called *factor*)."
   ]
  }
 ],
 "metadata": {
  "kernelspec": {
   "display_name": "Python 3",
   "language": "python",
   "name": "python3"
  },
  "language_info": {
   "codemirror_mode": {
    "name": "ipython",
    "version": 3
   },
   "file_extension": ".py",
   "mimetype": "text/x-python",
   "name": "python",
   "nbconvert_exporter": "python",
   "pygments_lexer": "ipython3",
   "version": "3.5.2"
  }
 },
 "nbformat": 4,
 "nbformat_minor": 2
}
