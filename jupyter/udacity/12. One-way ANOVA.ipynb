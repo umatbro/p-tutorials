{
 "cells": [
  {
   "cell_type": "code",
   "execution_count": 1,
   "metadata": {},
   "outputs": [
    {
     "data": {
      "text/latex": [
       "Wariacja bez powtórzeń\n",
       "$$V_n^k = \\frac{n!}{(n - k)!}\\\\$$\n",
       "Kombinacja bez powtórzeń\n",
       "$$C_n^k = {{n}\\choose{k}} =\\frac{n!}{k!(n - k)!}\\\\$$"
      ],
      "text/plain": [
       "<IPython.core.display.Latex object>"
      ]
     },
     "metadata": {},
     "output_type": "display_data"
    }
   ],
   "source": [
    "%%latex\n",
    "Wariacja bez powtórzeń\n",
    "$$V_n^k = \\frac{n!}{(n - k)!}\\\\$$\n",
    "Kombinacja bez powtórzeń\n",
    "$$C_n^k = {{n}\\choose{k}} =\\frac{n!}{k!(n - k)!}\\\\$$"
   ]
  },
  {
   "cell_type": "markdown",
   "metadata": {},
   "source": [
    "### Przykłady\n",
    "\n",
    "Liczba kombinacji 2-elementowych zbioru 4-elementowego A = { a , b , c , d } to 6.\n",
    "\n",
    "Kombinacjami są podzbiory: { a , b } , { a , c } , { a , d } , { b , c } , { b , d } , { c , d }\n",
    "\n",
    "Liczba wariacji zbioru 3-elementowego B = {e, f, g} to 6: ef, eg, fe, fg, ge, gf."
   ]
  },
  {
   "cell_type": "markdown",
   "metadata": {},
   "source": [
    "## Between-group variability\n",
    "\n",
    "the smaller the distance between sample means, the less likely population means will differ significantly.\n",
    "\n",
    "The greater distance between sample means, the more likely population means will differ significantly.\n",
    "\n",
    "## Within group variability\n",
    "\n",
    "The greater the variability of each individual sample, the less likely population means will differ significantly.\n",
    "\n",
    "The smaller the variability of each individual sample the more likely population means will differ significantly.\n",
    "\n",
    "\n",
    "# ANOVA \n",
    "\n",
    "When we are comparing samples we are extending idea of the t-test (t = difference / error). We can compare samples by seeing how far is the sample mean from the grand mean (mean of means when samples are the same size). This is called *between group variability*.\n",
    "\n",
    "We also look at the variability of each sample because it impacts wheather or not samples are significantly different.\n",
    "\n",
    "Since we are analyzing variabilities this process is called *Analysis of Variance*, shortened to **ANOVA**.\n",
    "\n",
    "**ANOVA** can compare as many means as we want with just one test. We say one-way ANOVA when we have one independent variable (called *factor*).\n",
    "\n",
    "ANOVA test can tell whether or not any sample is significantly different from other (no information about which sample from sample group is different).\n",
    "\n",
    "### F-ratio\n",
    "\n",
    "**F-ratio** = between-group variability / within-group variability\n",
    "\n"
   ]
  },
  {
   "cell_type": "code",
   "execution_count": 2,
   "metadata": {
    "scrolled": true
   },
   "outputs": [
    {
     "data": {
      "text/latex": [
       "$$F = \\frac{\\Sigma n_k (\\bar{x_k} - \\bar{x_G})^2/(k-1)}{\\Sigma (x_i - \\bar{x_k})^2 / df}\\\\$$\n",
       "\n",
       "k - sample size $$$$\n",
       "k - 1 - degrees of freedom\n",
       "$$df = N - k \\\\$$\n",
       "N - total number of values from all samples\n",
       "k - number of samples\n",
       "\n",
       "$$F = \\frac{SS_{between} / df_{between}}{SS_{within} / df_{within}} = \\frac{MS_{between}}{MS_{within}}\\\\$$\n",
       "\n",
       "Sum of df_between and df_within\n",
       "$$df_{between} + df_{within} = N - 1 = df_{total}\\\\$$"
      ],
      "text/plain": [
       "<IPython.core.display.Latex object>"
      ]
     },
     "metadata": {},
     "output_type": "display_data"
    }
   ],
   "source": [
    "%%latex\n",
    "$$F = \\frac{\\Sigma n_k (\\bar{x_k} - \\bar{x_G})^2/(k-1)}{\\Sigma (x_i - \\bar{x_k})^2 / df}\\\\$$\n",
    "\n",
    "k - sample size $$$$\n",
    "k - 1 - degrees of freedom\n",
    "$$df = N - k \\\\$$\n",
    "N - total number of values from all samples\n",
    "k - number of samples\n",
    "\n",
    "$$F = \\frac{SS_{between} / df_{between}}{SS_{within} / df_{within}} = \\frac{MS_{between}}{MS_{within}}\\\\$$\n",
    "\n",
    "Sum of df_between and df_within\n",
    "$$df_{between} + df_{within} = N - 1 = df_{total}\\\\$$"
   ]
  },
  {
   "cell_type": "markdown",
   "metadata": {},
   "source": [
    "### F-statistic distribution\n",
    "\n",
    "![F-statistic distribution](images/f-stat-distribution.jpg)\n",
    "\n",
    "F-statistic is *positively skewed*. Distribution peaks at **1**.\n",
    "\n",
    "F-statistic is **non-directional**.\n",
    "\n",
    "If F-statistic falls in critical region we know at least 2 samples were significantly different.\n",
    "\n",
    "[Link to F-Table](http://www.socr.ucla.edu/applets.dir/f_table.html)\n",
    "\n",
    "# Clothing example"
   ]
  },
  {
   "cell_type": "code",
   "execution_count": 3,
   "metadata": {},
   "outputs": [
    {
     "data": {
      "text/html": [
       "<div>\n",
       "<style scoped>\n",
       "    .dataframe tbody tr th:only-of-type {\n",
       "        vertical-align: middle;\n",
       "    }\n",
       "\n",
       "    .dataframe tbody tr th {\n",
       "        vertical-align: top;\n",
       "    }\n",
       "\n",
       "    .dataframe thead th {\n",
       "        text-align: right;\n",
       "    }\n",
       "</style>\n",
       "<table border=\"1\" class=\"dataframe\">\n",
       "  <thead>\n",
       "    <tr style=\"text-align: right;\">\n",
       "      <th></th>\n",
       "      <th>irisa</th>\n",
       "      <th>lola</th>\n",
       "      <th>snapzi</th>\n",
       "    </tr>\n",
       "  </thead>\n",
       "  <tbody>\n",
       "    <tr>\n",
       "      <th>0</th>\n",
       "      <td>39</td>\n",
       "      <td>65</td>\n",
       "      <td>15</td>\n",
       "    </tr>\n",
       "    <tr>\n",
       "      <th>1</th>\n",
       "      <td>45</td>\n",
       "      <td>45</td>\n",
       "      <td>12</td>\n",
       "    </tr>\n",
       "    <tr>\n",
       "      <th>2</th>\n",
       "      <td>48</td>\n",
       "      <td>32</td>\n",
       "      <td>14</td>\n",
       "    </tr>\n",
       "    <tr>\n",
       "      <th>3</th>\n",
       "      <td>60</td>\n",
       "      <td>38</td>\n",
       "      <td>11</td>\n",
       "    </tr>\n",
       "  </tbody>\n",
       "</table>\n",
       "</div>"
      ],
      "text/plain": [
       "   irisa  lola  snapzi\n",
       "0     39    65      15\n",
       "1     45    45      12\n",
       "2     48    32      14\n",
       "3     60    38      11"
      ]
     },
     "execution_count": 3,
     "metadata": {},
     "output_type": "execute_result"
    }
   ],
   "source": [
    "import pandas as pd\n",
    "import numpy as np\n",
    "\n",
    "data = pd.DataFrame({\n",
    "    'snapzi': [15, 12, 14, 11],\n",
    "    'irisa': [39, 45, 48, 60],\n",
    "    'lola': [65, 45, 32, 38]\n",
    "})\n",
    "data"
   ]
  },
  {
   "cell_type": "code",
   "execution_count": 4,
   "metadata": {},
   "outputs": [
    {
     "data": {
      "text/plain": [
       "irisa     48.000000\n",
       "lola      45.000000\n",
       "snapzi    13.000000\n",
       "grand     35.333333\n",
       "dtype: float64"
      ]
     },
     "execution_count": 4,
     "metadata": {},
     "output_type": "execute_result"
    }
   ],
   "source": [
    "means = data.mean()\n",
    "means['grand'] = data.values.mean()\n",
    "means"
   ]
  },
  {
   "cell_type": "code",
   "execution_count": 5,
   "metadata": {},
   "outputs": [
    {
     "data": {
      "text/plain": [
       "3010.6666666666665"
      ]
     },
     "execution_count": 5,
     "metadata": {},
     "output_type": "execute_result"
    }
   ],
   "source": [
    "squared = ((means - means['grand']) ** 2)['irisa':'snapzi']\n",
    "ss_between = (means.count() * squared).sum()\n",
    "ss_between"
   ]
  },
  {
   "cell_type": "code",
   "execution_count": 6,
   "metadata": {},
   "outputs": [
    {
     "data": {
      "text/plain": [
       "862.0"
      ]
     },
     "execution_count": 6,
     "metadata": {},
     "output_type": "execute_result"
    }
   ],
   "source": [
    "ss_within = ((data - means) ** 2).sum().sum()\n",
    "ss_within"
   ]
  },
  {
   "cell_type": "code",
   "execution_count": 7,
   "metadata": {},
   "outputs": [
    {
     "data": {
      "text/plain": [
       "(2, 9)"
      ]
     },
     "execution_count": 7,
     "metadata": {},
     "output_type": "execute_result"
    }
   ],
   "source": [
    "df_between = len(data.columns) - 1\n",
    "df_within = data.count().sum() - len(data.columns)\n",
    "\n",
    "df_between, df_within"
   ]
  },
  {
   "cell_type": "code",
   "execution_count": 8,
   "metadata": {},
   "outputs": [
    {
     "data": {
      "text/plain": [
       "(1505.3333333333333, 95.777777777777771)"
      ]
     },
     "execution_count": 8,
     "metadata": {},
     "output_type": "execute_result"
    }
   ],
   "source": [
    "# Calculating mean squares\n",
    "ms_between = ss_between / df_between\n",
    "ms_within = ss_within / df_within\n",
    "\n",
    "ms_between, ms_within"
   ]
  },
  {
   "cell_type": "code",
   "execution_count": 9,
   "metadata": {},
   "outputs": [
    {
     "data": {
      "text/plain": [
       "15.716937354988399"
      ]
     },
     "execution_count": 9,
     "metadata": {},
     "output_type": "execute_result"
    }
   ],
   "source": [
    "# F-statistic - ratio between MS_between and MS_within\n",
    "F = ms_between / ms_within\n",
    "F"
   ]
  },
  {
   "cell_type": "code",
   "execution_count": 10,
   "metadata": {},
   "outputs": [],
   "source": [
    "F_critical = 4.2565"
   ]
  },
  {
   "cell_type": "markdown",
   "metadata": {},
   "source": [
    "`F > F_critical` so we **reject the null**. One of the samples is significantly different from others."
   ]
  }
 ],
 "metadata": {
  "kernelspec": {
   "display_name": "Python 3",
   "language": "python",
   "name": "python3"
  },
  "language_info": {
   "codemirror_mode": {
    "name": "ipython",
    "version": 3
   },
   "file_extension": ".py",
   "mimetype": "text/x-python",
   "name": "python",
   "nbconvert_exporter": "python",
   "pygments_lexer": "ipython3",
   "version": "3.6.3"
  }
 },
 "nbformat": 4,
 "nbformat_minor": 2
}
